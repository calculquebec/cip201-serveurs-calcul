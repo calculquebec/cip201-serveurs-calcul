{
 "cells": [
  {
   "cell_type": "markdown",
   "id": "d7bcab84-1da0-4d6c-87f1-9af24084983b",
   "metadata": {},
   "source": [
    "# Exercices supplémentaires"
   ]
  },
  {
   "cell_type": "markdown",
   "id": "c0fb05fb-85fb-4410-951f-fd39c577364f",
   "metadata": {},
   "source": [
    "## Complexité de l'algorithme\n",
    "Dans cet exercice, il est question d'inverser une matrice de valeurs aléatoires de taille $n*n$ :\n",
    "* Soumettre le script [`scripts/inv-mat.sh`](https://github.com/calculquebec/cip201-serveurs-calcul/blob/main/scripts/inv-mat.sh) avec la commande `sbatch` :\n",
    "\n",
    "```Bash\n",
    "sbatch scripts/inv-mat.sh\n",
    "```\n",
    "\n",
    "* Explorer les scripts Python\n",
    "[`scripts/inv-mat.py`](https://github.com/calculquebec/cip201-serveurs-calcul/blob/main/scripts/inv-mat.py) et \n",
    "[`scripts/inv-mat.sh`](https://github.com/calculquebec/cip201-serveurs-calcul/blob/main/scripts/inv-mat.sh) :\n",
    "\n",
    "```Bash\n",
    "cat scripts/inv-mat.py\n",
    "cat scripts/inv-mat.sh\n",
    "```\n",
    "\n",
    "* Suivre l'évolution du calcul avec `squeue -u $USER`, environ aux 30 secondes\n",
    "* Les mesures seront sauvegardées dans le fichier `temps_inv.csv`\n",
    "* Analyse avec Python, Pandas et Numpy dans le script [`scripts/inv-mat-pred.py`](https://github.com/calculquebec/cip201-serveurs-calcul/blob/main/scripts/inv-mat-pred.py) :\n",
    "\n",
    "```Bash\n",
    "module load gcc/12.3 python/3.11 scipy-stack\n",
    "\n",
    "cat scripts/inv-mat-pred.py\n",
    "python scripts/inv-mat-pred.py temps_inv.csv\n",
    "```\n",
    "* Quelle a été la consommation maximale en mémoire-vive?"
   ]
  },
  {
   "cell_type": "markdown",
   "id": "ff4e7872-f7ce-467d-80fe-45033d8076d0",
   "metadata": {},
   "source": [
    "## Installation de *Benchmark 5D*\n",
    "Il s'agit d'un code effectuant des multiplications matricielles.\n",
    "Pour une quantité de données d'ordre $O(n^3)$, le code effectue\n",
    "un nombre de multiplications et d'additions d'ordre $O(n^5)$.\n",
    "\n",
    "Pour l'installer dans le dossier `$HOME`:\n",
    "```Bash\n",
    "cat scripts/installer/b5D.sh\n",
    "bash scripts/installer/b5D.sh\n",
    "```\n",
    "\n",
    "Afin de tirer profit des différents niveaux de cache-mémoire dans un\n",
    "ordinateur, le code de *Benchmark 5D* permet de découper les cubes de\n",
    "données en *blocs* de taille `b1*b2*b3`, et de découper les *blocs* de\n",
    "données en *prismes* de taille `p1*p2*p3`.\n",
    "Il est donc requis que `b1>p1`, `b2>p2` et `b3>p3`.\n",
    "Toutes ces dimensions peuvent être fournies en argument à l'exécutable\n",
    "`b5D.omp` (compilé avec OpenMP).\n",
    "\n",
    "La question : quelle combinaison de `{b,p}*{1,2,3}` permet\n",
    "d'obtenir la meilleure performance lorsque `n=96`?\n",
    "Pour simplifier le problème : `b1=b2=b3` et `p1=p2=p3`."
   ]
  },
  {
   "cell_type": "markdown",
   "id": "987aa908-283a-48a6-8768-030434f906f1",
   "metadata": {},
   "source": [
    "### Utiliser GLOST\n",
    "On se rappelle que GLOST fonctionne avec une liste de commandes\n",
    "indépendantes. Pour générer et valider cette liste :\n",
    "```Bash\n",
    "cat scripts/extra/b5D-gen-cas.sh\n",
    "bash scripts/extra/b5D-gen-cas.sh\n",
    "\n",
    "cat $SCRATCH/cas-b5D.txt\n",
    "```\n",
    "\n",
    "Éditez le fichier `scripts/extra/b5D-glost.sh` dans le but\n",
    "d'utiliser GLOST :\n",
    "1. Demandez 4 tâches Slurm par noeud\n",
    "1. Faites charger le module `glost/0.3.1` après le module GCC\n",
    "1. Construisez la commande de démarrage de GLOST avec `srun`\n",
    "   et `$SCRATCH/cas-b5D.txt` pour le fichier de commandes.\n",
    "\n",
    "Une fois que ce script de tâche est complété, vous pouvez le soumettre\n",
    "à l'ordonnanceur :\n",
    "```Bash\n",
    "sbatch scripts/extra/b5D-glost.sh\n",
    "```\n",
    "\n",
    "Dans le fichier de sortie Slurm, vous devriez pouvoir identifier la\n",
    "combinaison optimale pour `b` et `p` en considérant les vitesses."
   ]
  },
  {
   "cell_type": "markdown",
   "id": "2399f516-a349-4aec-8857-c668710c3d3c",
   "metadata": {},
   "source": [
    "### Utiliser GNU Parallel\n",
    "Éditez le fichier `scripts/extra/b5D-parallel.sh` dans le but\n",
    "d'utiliser GPU Parallel :\n",
    "1. Demandez 4 processeurs pour une et une seule tâche Slurm\n",
    "1. Demandez 2000M de mémoire-vive par processeur\n",
    "1. Faites en sorte que `./b5D.omp` soit appelé par GNU Parallel\n",
    "1. Tous les paramètres `-b*` auront la même valeur, mais les\n",
    "   différentes valeurs à tester sont : `48 32 24`\n",
    "1. Tous les paramètres `-p*` auront la même valeur, mais les\n",
    "   différentes valeurs à tester sont : `16 12 8 6`\n",
    "\n",
    "Une fois que ce script de tâche est complété, vous pouvez le soumettre\n",
    "à l'ordonnanceur :\n",
    "```Bash\n",
    "sbatch scripts/extra/b5D-parallel.sh\n",
    "```\n",
    "\n",
    "Dans le fichier de sortie Slurm, vous devriez pouvoir identifier la\n",
    "combinaison optimale pour `b` et `p` en considérant les vitesses."
   ]
  },
  {
   "cell_type": "markdown",
   "id": "2d16cc94-d764-444c-87b7-33681f44c367",
   "metadata": {},
   "source": [
    "### Analyse des ressources utilisées\n",
    "* Utilisez la commande `sacct` pour obtenir le détail de vos dernières\n",
    "  tâches.\n",
    "* Utilisez la commande `seff` avec un numéro de tâche pour obtenir ses\n",
    "  ressources consommées : temps CPU, quantité de mémoire-vive et\n",
    "  pourcentages d'efficacité."
   ]
  },
  {
   "cell_type": "markdown",
   "id": "c5139ac0-a3fd-42c1-bb9a-804f2e9bca0d",
   "metadata": {},
   "source": [
    "### Problème plus grand\n",
    "Sachant quelles sont les meilleurs paramètres pour `b` et `p`,\n",
    "construisez un nouveau script de tâche pour tester trois (3)\n",
    "lancements successifs de la commande `./b5D.omp` avec `-n 144` :\n",
    "\n",
    "* Réservez une tâche Slurm de un processeur\n",
    "* Réservez suffisamment de mémoire-vive, mais pas trop\n",
    "* Réservez suffisamment de temps de calcul\n",
    "* Utilisez la commande `time -p` pour mesurer le temps de chacune des\n",
    "  trois exécutions.\n",
    "\n",
    "1. Une fois le script complété, soumettez-le et vérifiez les résultats.\n",
    "   En cas d'erreur, faites les corrections et essayez à nouveau\n",
    "1. Vérifiez les ressources utilisées (temps CPU, mémoire, etc.)"
   ]
  },
  {
   "cell_type": "code",
   "execution_count": null,
   "id": "b3faccd4-0cd7-4f03-9fb0-2026c9380f6a",
   "metadata": {},
   "outputs": [],
   "source": []
  }
 ],
 "metadata": {
  "kernelspec": {
   "display_name": "Python 3 (ipykernel)",
   "language": "python",
   "name": "python3"
  },
  "language_info": {
   "codemirror_mode": {
    "name": "ipython",
    "version": 3
   },
   "file_extension": ".py",
   "mimetype": "text/x-python",
   "name": "python",
   "nbconvert_exporter": "python",
   "pygments_lexer": "ipython3",
   "version": "3.10.5"
  }
 },
 "nbformat": 4,
 "nbformat_minor": 5
}
