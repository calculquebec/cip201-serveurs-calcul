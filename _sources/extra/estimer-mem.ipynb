{
 "cells": [
  {
   "cell_type": "markdown",
   "id": "d7e05697-88da-4ab8-a8e6-127257862d34",
   "metadata": {},
   "source": [
    "# Estimation des besoins en mémoire-vive"
   ]
  },
  {
   "cell_type": "markdown",
   "id": "b71820be-17f9-4e73-9491-d546a85c47dc",
   "metadata": {},
   "source": [
    "## Stockage en mémoire selon les types de base\n",
    "En ayant une idée de la taille des données à traiter,\n",
    "il devient possible d'estimer l'espace que les données prendront en mémoire-vive."
   ]
  },
  {
   "cell_type": "markdown",
   "id": "61a2e4e2-bf47-4655-b1c7-7468ad420c08",
   "metadata": {},
   "source": [
    "### Pour des textes\n",
    "Dans un fichier texte, **chaque caractère prend de un (1) à deux (2)\n",
    "octets**, en moyenne. Cependant, pour certaines langues, l'encodage\n",
    "[UTF-8](https://fr.wikipedia.org/wiki/UTF-8#Description)\n",
    "peut se rendre jusqu'à quatre (4) octets par caractère.\n",
    "Pour les langues latines et germaniques, on peut considérer **deux\n",
    "(2) octets** par caractère. Par exemple, dans une session Python :\n",
    "\n",
    "```Bash\n",
    "python\n",
    "```\n",
    "\n",
    "```Python\n",
    ">>> import sys\n",
    ">>> euro = \"\"\n",
    ">>> sys.getsizeof(euro)\n",
    "49\n",
    ">>> euro = \"Euro\"\n",
    ">>> sys.getsizeof(euro)\n",
    "53\n",
    ">>> euro = \"€\"\n",
    ">>> sys.getsizeof(euro)\n",
    "76\n",
    ">>> euro *= 2  # Donc \"€€\"\n",
    ">>> sys.getsizeof(euro)\n",
    "78\n",
    ">>> quit()  # ou Ctrl+D pour sortir\n",
    "```"
   ]
  },
  {
   "cell_type": "markdown",
   "id": "56dad1cc-c40e-4866-82da-2c8da0808402",
   "metadata": {},
   "source": [
    "### Pour des nombres entiers\n",
    "Les nombres entiers prennent typiquement 2 octets (16 bits), 4 octets (32 bits) ou 8 octets (64 bits) chacun. Tout dépend de la [plage de valeurs souhaitée](https://en.wikipedia.org/wiki/C_data_types#Main_types) :\n",
    "  * **2 octets** : ~65 milles valeurs de $0$ à $65535$, ou de $-32767$ à $32767$\n",
    "  * **4 octets** : ~4 milliards de valeurs de 0 à $(2^{32}-1)$ ou de $-(2^{31}-1)$ à $(2^{31}-1)$\n",
    "  * **8 octets** : ~18 trillions de valeurs de 0 à $(2^{64}-1)$ ou de $-(2^{63}-1)$ à $(2^{63}-1)$\n",
    "\n",
    "```Bash\n",
    "module load python/3.11 scipy-stack\n",
    "python\n",
    "```\n",
    "\n",
    "```Python\n",
    ">>> import sys\n",
    ">>> import numpy as np\n",
    ">>> cube = np.zeros((100,100,100), dtype=np.int64)\n",
    ">>> sys.getsizeof(cube)\n",
    "8000136\n",
    ">>> cube = np.zeros((100,100,100), dtype=np.int32)\n",
    ">>> sys.getsizeof(cube)\n",
    "4000136\n",
    ">>> np.iinfo(np.int16)\n",
    "iinfo(min=-32768, max=32767, dtype=int16)\n",
    "```"
   ]
  },
  {
   "cell_type": "markdown",
   "id": "dbcbe281-dbd0-4340-b36d-57b8c30e57f8",
   "metadata": {},
   "source": [
    "### Pour des nombres à virgule flottante\n",
    "Les nombres à virgule flottante prennent typiquement **4 octets\n",
    "(32 bits) ou 8 octets (64 bits) chacun**, mais on voit de plus en plus\n",
    "[différents types de données à 2 octets (16 bits)](https://en.wikipedia.org/wiki/Bfloat16_floating-point_format)\n",
    "dans des applications d'apprentissage-machine. Il se peut néanmoins\n",
    "que les données soient initialement en simple ou double précision:\n",
    "\n",
    "* **[simple précision](https://en.wikipedia.org/wiki/Single-precision_floating-point_format)**\n",
    "  : 4 octets, une résolution de 23 bits (~7 décimales), une échelle de\n",
    "  8 bits (${10}^{-38}$ à ${10}^{38}$)\n",
    "* **[double précision](https://en.wikipedia.org/wiki/Double-precision_floating-point_format)**\n",
    "  : 8 octets, une résolution de 52 bits (~16 décimales), une échelle\n",
    "  de 11 bits (${10}^{-308}$ à ${10}^{308}$)\n",
    "\n",
    "```Python\n",
    ">>> cube = np.ndarray((100,100,100), dtype=np.float32)\n",
    ">>> cube[0,0,0] = np.pi\n",
    ">>> print(cube[0,0,0])\n",
    "3.1415927\n",
    ">>> print(cube[0,0,0], np.pi)\n",
    "3.1415927 3.141592653589793\n",
    "```"
   ]
  },
  {
   "cell_type": "markdown",
   "id": "217f26db-344b-47b8-856f-01a293586467",
   "metadata": {},
   "source": [
    "* Certains langages utilisent systématiquement **8 octets** (64 bits) par nombre.\n",
    "* [Certains compilateurs et certaines bibliothèques](https://en.wikipedia.org/wiki/Quadruple-precision_floating-point_format) peuvent calculer des valeurs représentées avec 128 bits [ou plus](https://gmplib.org/).\n",
    "* Pour les nombres complexes, on multiplie l'espace mémoire par deux (2)."
   ]
  },
  {
   "cell_type": "markdown",
   "id": "b3d8c028-d368-4462-9833-60b0f20890e3",
   "metadata": {},
   "source": [
    "Exemple de calcul de l'espace-mémoire :\n",
    "```Python\n",
    ">>> nb_matrices = 3        # Trois matrices C = prod_mat(A, B)\n",
    ">>> taille = 25000         # Matrices carrées\n",
    ">>> octets_par_nombre = 8  # Double précision\n",
    ">>> memoire = nb_matrices * taille*taille * octets_par_nombre\n",
    ">>> memoire / 1000**3\n",
    ">>>\n",
    ">>> quit()  # ou Ctrl+D pour sortir\n",
    "```"
   ]
  },
  {
   "cell_type": "code",
   "execution_count": null,
   "id": "d46e9125-a2e1-4904-8c51-a26a594fcf3d",
   "metadata": {},
   "outputs": [],
   "source": []
  }
 ],
 "metadata": {
  "kernelspec": {
   "display_name": "Python 3 (ipykernel)",
   "language": "python",
   "name": "python3"
  },
  "language_info": {
   "codemirror_mode": {
    "name": "ipython",
    "version": 3
   },
   "file_extension": ".py",
   "mimetype": "text/x-python",
   "name": "python",
   "nbconvert_exporter": "python",
   "pygments_lexer": "ipython3",
   "version": "3.10.5"
  }
 },
 "nbformat": 4,
 "nbformat_minor": 5
}
