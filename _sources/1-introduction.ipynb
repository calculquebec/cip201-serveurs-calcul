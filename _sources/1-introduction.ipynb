{
 "cells": [
  {
   "cell_type": "markdown",
   "id": "219bf4b2-b696-4f55-b6c1-dad671597f0a",
   "metadata": {},
   "source": [
    "# Introduction"
   ]
  },
  {
   "cell_type": "markdown",
   "id": "4665cade-7fe0-408c-bbe8-ba072ccd1525",
   "metadata": {},
   "source": [
    "## Rappel - le calcul haute performance\n",
    "* Défi à l'origine : l'utilisation d'une grappe de calcul haute\n",
    "  performance devient nécessaire lorsqu'on doit lancer une\n",
    "  **grande quantité de calculs** ou de **traitements de données**.\n",
    "* Puisque les **ressources** sont **partagées et en grande demande**,\n",
    "  chaque tâche doit être soumise à un ordonnanceur de tâches.\n",
    "* Il devient donc nécessaire **d'estimer à l'avance les ressources**\n",
    "  qui seront réservées lors de l'exécution d'un calcul."
   ]
  },
  {
   "cell_type": "markdown",
   "id": "4abc59cf-0be3-47af-981d-6a5cc2c9af69",
   "metadata": {},
   "source": [
    "## Différents types de tâches\n",
    "Deux grandes catégories de tâches qui travaillent sur un même problème :\n",
    "![Séquentiel vs parallel](images/serial-vs-parallel.svg)"
   ]
  },
  {
   "cell_type": "markdown",
   "id": "440421e2-ff2d-4dab-99b3-7d322d41ec76",
   "metadata": {},
   "source": [
    "Parmi les tâches séquentielles, il existe aussi le calcul vectoriel.\n",
    "* Description : **une même opération** sur des vecteurs de données\n",
    "* Ressources : un processeur moderne ou un **accélérateur** (GPU)\n",
    "\n",
    "![Calcul vectoriel](images/calcul-vectoriel.svg)"
   ]
  },
  {
   "cell_type": "markdown",
   "id": "a1c65c07-d1bb-4950-8c83-98497aa6d4d4",
   "metadata": {},
   "source": [
    "### Parallélisme de données\n",
    "* Beaucoup de données à traiter de manière indépendante\n",
    "* **Plusieurs tâches séquentielles en simultané**\n",
    "  * Utilisation de **lots de tâches**\n",
    "  * Ou une tâche parallèle qui partitionne les données en différents problèmes à traiter sur des processeurs différents\n",
    "\n",
    "![Parallélisme de données](images/data-parallelism.svg)"
   ]
  },
  {
   "cell_type": "markdown",
   "id": "5849a3ec-7209-4267-895a-f9b959ed3bb9",
   "metadata": {},
   "source": [
    "## Des questions à se poser\n",
    "* Quel **type de calculs** effectuez-vous?\n",
    "  * Séquentiel ou parallel?\n",
    "    * Peut-être vectoriel?\n",
    "  * Traiter beaucoup de petits fichiers ou quelques grands fichiers?\n",
    "* Quelles **ressources** vont être consommées?\n",
    "  * Quelles ressources choisir?\n",
    "  * Quelle quantité de ressources devrait être demandée?\n",
    "* Comment **planifier le stockage** nécessaire pour vos données?\n",
    "  * Avez-vous un plan de gestion des données actives?\n",
    "  * Qui devrait accéder à quoi?\n",
    "  * Quels espaces de stockage utiliser?\n",
    "  * Quand devriez-vous archiver certaines données?\n",
    "* Comment **lancer des tâches optimalement**?\n",
    "  * Comment monitorer et profiler ces tâches?"
   ]
  },
  {
   "cell_type": "code",
   "execution_count": null,
   "id": "af28d9dc-f162-40f9-ad35-44caf8b65509",
   "metadata": {},
   "outputs": [],
   "source": []
  }
 ],
 "metadata": {
  "kernelspec": {
   "display_name": "Python 3 (ipykernel)",
   "language": "python",
   "name": "python3"
  },
  "language_info": {
   "codemirror_mode": {
    "name": "ipython",
    "version": 3
   },
   "file_extension": ".py",
   "mimetype": "text/x-python",
   "name": "python",
   "nbconvert_exporter": "python",
   "pygments_lexer": "ipython3",
   "version": "3.11.7"
  }
 },
 "nbformat": 4,
 "nbformat_minor": 5
}
